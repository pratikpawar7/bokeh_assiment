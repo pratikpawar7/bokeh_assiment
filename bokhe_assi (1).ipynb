{
 "cells": [
  {
   "cell_type": "code",
   "execution_count": null,
   "id": "f0e32d5b-bcf7-4f4f-a351-76464dd1092c",
   "metadata": {},
   "outputs": [],
   "source": [
    "'''\n",
    "Q1. How can you create a Bokeh plot using Python code?\n",
    "'''\n",
    "# code for create bokeh plot using python code\n",
    "\n",
    "import bokeh.io\n",
    "import bokeh.plotting \n",
    "\n",
    "bokeh.io.output_nootbook()\n",
    "\n",
    "from bokeh.plotting import figure , show , output_file  \n",
    "p = figure()\n",
    "p.circle(x =[1,2,3,4,5] ,y = [3,4,5,6,7])\n",
    "show(p)"
   ]
  },
  {
   "cell_type": "code",
   "execution_count": null,
   "id": "6d4e0df2-91e7-4edb-a6f8-7e765e813af6",
   "metadata": {},
   "outputs": [],
   "source": [
    "'''\n",
    "Q2. What are glyphs in Bokeh, and how can you add them to a Bokeh plot? Explain with an example.\n",
    "'''\n",
    "#in bokeh glyphs are visual markers that represent data points . \n",
    "#comman glyphs include lines , circles , squares . \n",
    "import bokeh.io\n",
    "import bokeh.plotting \n",
    "\n",
    "bokeh.io.output_nootbook()\n",
    "\n",
    "from bokeh.plotting import figure , show , output_file  \n",
    "p = figure()\n",
    "p.circle(x =[1,2,3,4,5] ,y = [3,4,5,6,7])\n",
    "#p.line(x =[1,2,3,4,5] ,y = [3,4,5,6,7])\n",
    "show(p)\n",
    "\n"
   ]
  },
  {
   "cell_type": "code",
   "execution_count": null,
   "id": "f5af1e0b-2c9b-4fed-af65-3548ed3ec438",
   "metadata": {},
   "outputs": [],
   "source": []
  },
  {
   "cell_type": "code",
   "execution_count": null,
   "id": "b7fba35e-fd8c-43df-b6c2-90c5b155e410",
   "metadata": {},
   "outputs": [],
   "source": []
  },
  {
   "cell_type": "code",
   "execution_count": null,
   "id": "b2fdbb2f-11d8-457c-bc6e-483af1ef6974",
   "metadata": {},
   "outputs": [],
   "source": []
  },
  {
   "cell_type": "code",
   "execution_count": null,
   "id": "4fa60c51-82a7-4b18-9b8e-149df23de0b4",
   "metadata": {},
   "outputs": [],
   "source": []
  },
  {
   "cell_type": "code",
   "execution_count": null,
   "id": "6110c1d9-15ea-40c1-a0cd-156b31446944",
   "metadata": {},
   "outputs": [],
   "source": [
    "'''\n",
    "Q3. How can you customize the appearance of a Bokeh plot, including the axes, title, and legend?\n",
    "'''\n",
    "# by showing below we can add title ,xaxis , y axis \n",
    "import bokeh.io\n",
    "import bokeh.plotting \n",
    "\n",
    "bokeh.io.output_nootbook()\n",
    "\n",
    "from bokeh.plotting import figure , show , output_file  \n",
    "p = figure(title = 'this is title')\n",
    "p.xaxis.axis_label(\"this is x axis label \")\n",
    "p.yaxis.axis_label(\"this is y acis label \")\n",
    "p.circle(x =[1,2,3,4,5] ,y = [3,4,5,6,7])\n",
    "#p.line(x =[1,2,3,4,5] ,y = [3,4,5,6,7])\n",
    "show(p\n"
   ]
  },
  {
   "cell_type": "code",
   "execution_count": 5,
   "id": "e32e412d-be8e-4392-8f76-66c0dbb3f5bc",
   "metadata": {},
   "outputs": [
    {
     "data": {
      "text/plain": [
       "'\\nQ4. What is a Bokeh server, and how can you use it to create interactive plots that can be updated in\\nreal time?\\n'"
      ]
     },
     "execution_count": 5,
     "metadata": {},
     "output_type": "execute_result"
    }
   ],
   "source": [
    "'''\n",
    "Q4. What is a Bokeh server, and how can you use it to create interactive plots that can be updated in\n",
    "real time?\n",
    "'''\n",
    "\n",
    "#Understanding how to leverage Bokeh server capabilities is valuable for creating\n",
    "#interactive and responsive data visualizations,\n",
    "\n",
    "\n",
    "from bokeh.plotting import figure, curdoc\n",
    "from bokeh.models import ColumnDataSource\n",
    "import numpy as np\n",
    "\n",
    "# Create initial data\n",
    "x = np.linspace(0, 2 * np.pi, 100)\n",
    "y = np.sin(x)\n",
    "source = ColumnDataSource(data={'x': x, 'y': y})\n",
    "\n",
    "# Create a figure\n",
    "plot = figure(title=\"Real-time Bokeh Plot\", plot_height=300, plot_width=600)\n",
    "line = plot.line('x', 'y', source=source, line_width=2)\n",
    "\n",
    "# Define callback function to update data\n",
    "def update():\n",
    "    new_y = np.sin(x + curdoc().session_context.request.arguments.get('param', [0])[0].decode())\n",
    "    source.data = {'x': x, 'y': new_y}\n",
    "\n",
    "# Add periodic callback to update data every second\n",
    "curdoc().add_periodic_callback(update, 1000)\n",
    "\n",
    "# Show the plot\n",
    "curdoc().add_root(plot)\n"
   ]
  },
  {
   "cell_type": "code",
   "execution_count": null,
   "id": "2908f837-fe9d-4561-a3bc-53cd1f294db8",
   "metadata": {},
   "outputs": [],
   "source": [
    "'''\n",
    "Q5. How can you embed a Bokeh plot into a web page or dashboard using Flask or Django?\n",
    "\n",
    "'''\n",
    "\n",
    "#Embedding a Bokeh plot into a web page or dashboard using Flask or Django involves \n",
    "#utilizing Bokeh's components function to extract the necessary JavaScript and HTML components\n",
    "\n",
    "from flask import Flask, render_template\n",
    "from bokeh.plotting import figure\n",
    "from bokeh.embed import components\n",
    "\n",
    "app = Flask(__name__)\n",
    "\n",
    "@app.route('/')\n",
    "def index():\n",
    "    # Create a Bokeh plot\n",
    "    p = figure(title=\"Bokeh Plot\", x_axis_label='X-axis', y_axis_label='Y-axis')\n",
    "    p.line([1, 2, 3, 4, 5], [6, 7, 2, 4, 8], line_width=2)\n",
    "\n",
    "    # Embed the plot components into the HTML template\n",
    "    script, div = components(p)\n",
    "    return render_template('index.html', script=script, div=div)\n",
    "\n",
    "if __name__ == '__main__':\n",
    "    app.run(debug=True)\n"
   ]
  }
 ],
 "metadata": {
  "kernelspec": {
   "display_name": "Python 3 (ipykernel)",
   "language": "python",
   "name": "python3"
  },
  "language_info": {
   "codemirror_mode": {
    "name": "ipython",
    "version": 3
   },
   "file_extension": ".py",
   "mimetype": "text/x-python",
   "name": "python",
   "nbconvert_exporter": "python",
   "pygments_lexer": "ipython3",
   "version": "3.10.8"
  }
 },
 "nbformat": 4,
 "nbformat_minor": 5
}
